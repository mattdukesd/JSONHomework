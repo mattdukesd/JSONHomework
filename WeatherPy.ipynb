{
 "cells": [
  {
   "cell_type": "code",
   "execution_count": 8,
   "metadata": {},
   "outputs": [
    {
     "name": "stdout",
     "output_type": "stream",
     "text": [
      "Collecting citipy\n",
      "  Downloading citipy-0.0.5.tar.gz (557kB)\n",
      "Collecting kdtree>=0.12 (from citipy)\n",
      "  Downloading kdtree-0.16-py2.py3-none-any.whl\n",
      "Building wheels for collected packages: citipy\n",
      "  Running setup.py bdist_wheel for citipy: started\n",
      "  Running setup.py bdist_wheel for citipy: finished with status 'done'\n",
      "  Stored in directory: C:\\Users\\mduke\\AppData\\Local\\pip\\Cache\\wheels\\68\\ab\\e8\\bf9e7c2e7a41fd29026e52d88379ebc770f90eace3b616a420\n",
      "Successfully built citipy\n",
      "Installing collected packages: kdtree, citipy\n",
      "Successfully installed citipy-0.0.5 kdtree-0.16\n"
     ]
    }
   ],
   "source": [
    "!pip install citipy"
   ]
  },
  {
   "cell_type": "code",
   "execution_count": 9,
   "metadata": {},
   "outputs": [],
   "source": [
    "# Dependencies\n",
    "import json\n",
    "import requests as req\n",
    "import random\n",
    "import seaborn as sns\n",
    "import pandas as pd\n",
    "import math as math\n",
    "import time\n",
    "import numpy as np\n",
    "import matplotlib.pyplot as plt\n",
    "from citipy import citipy\n",
    "\n"
   ]
  },
  {
   "cell_type": "code",
   "execution_count": 6,
   "metadata": {
    "collapsed": true
   },
   "outputs": [],
   "source": [
    "api_key = \"478ee01ae8b8eae871901fe2bef506c7\""
   ]
  },
  {
   "cell_type": "code",
   "execution_count": 10,
   "metadata": {},
   "outputs": [
    {
     "data": {
      "text/html": [
       "<div>\n",
       "<style>\n",
       "    .dataframe thead tr:only-child th {\n",
       "        text-align: right;\n",
       "    }\n",
       "\n",
       "    .dataframe thead th {\n",
       "        text-align: left;\n",
       "    }\n",
       "\n",
       "    .dataframe tbody tr th {\n",
       "        vertical-align: top;\n",
       "    }\n",
       "</style>\n",
       "<table border=\"1\" class=\"dataframe\">\n",
       "  <thead>\n",
       "    <tr style=\"text-align: right;\">\n",
       "      <th></th>\n",
       "      <th>lat_values</th>\n",
       "      <th>lng_values</th>\n",
       "    </tr>\n",
       "  </thead>\n",
       "  <tbody>\n",
       "    <tr>\n",
       "      <th>0</th>\n",
       "      <td>-53.668057</td>\n",
       "      <td>44.772856</td>\n",
       "    </tr>\n",
       "    <tr>\n",
       "      <th>1</th>\n",
       "      <td>-85.599915</td>\n",
       "      <td>-123.476984</td>\n",
       "    </tr>\n",
       "    <tr>\n",
       "      <th>2</th>\n",
       "      <td>71.754637</td>\n",
       "      <td>-21.667935</td>\n",
       "    </tr>\n",
       "    <tr>\n",
       "      <th>3</th>\n",
       "      <td>80.554609</td>\n",
       "      <td>21.109109</td>\n",
       "    </tr>\n",
       "    <tr>\n",
       "      <th>4</th>\n",
       "      <td>57.129979</td>\n",
       "      <td>-124.912084</td>\n",
       "    </tr>\n",
       "  </tbody>\n",
       "</table>\n",
       "</div>"
      ],
      "text/plain": [
       "   lat_values  lng_values\n",
       "0  -53.668057   44.772856\n",
       "1  -85.599915 -123.476984\n",
       "2   71.754637  -21.667935\n",
       "3   80.554609   21.109109\n",
       "4   57.129979 -124.912084"
      ]
     },
     "execution_count": 10,
     "metadata": {},
     "output_type": "execute_result"
    }
   ],
   "source": [
    "location_data = pd.DataFrame()\n",
    "location_data['lat_values'] = [np.random.uniform(-90,90) for x in range(1500)]\n",
    "location_data['lng_values'] = [np.random.uniform(-180, 180) for x in range(1500)]\n",
    "\n",
    "location_data.head()#check"
   ]
  },
  {
   "cell_type": "code",
   "execution_count": 11,
   "metadata": {},
   "outputs": [
    {
     "data": {
      "text/html": [
       "<div>\n",
       "<style>\n",
       "    .dataframe thead tr:only-child th {\n",
       "        text-align: right;\n",
       "    }\n",
       "\n",
       "    .dataframe thead th {\n",
       "        text-align: left;\n",
       "    }\n",
       "\n",
       "    .dataframe tbody tr th {\n",
       "        vertical-align: top;\n",
       "    }\n",
       "</style>\n",
       "<table border=\"1\" class=\"dataframe\">\n",
       "  <thead>\n",
       "    <tr style=\"text-align: right;\">\n",
       "      <th></th>\n",
       "      <th>lat_values</th>\n",
       "      <th>lng_values</th>\n",
       "      <th>city</th>\n",
       "      <th>country</th>\n",
       "    </tr>\n",
       "  </thead>\n",
       "  <tbody>\n",
       "    <tr>\n",
       "      <th>0</th>\n",
       "      <td>-53.668057</td>\n",
       "      <td>44.772856</td>\n",
       "      <td>east london</td>\n",
       "      <td>za</td>\n",
       "    </tr>\n",
       "    <tr>\n",
       "      <th>1</th>\n",
       "      <td>-85.599915</td>\n",
       "      <td>-123.476984</td>\n",
       "      <td>punta arenas</td>\n",
       "      <td>cl</td>\n",
       "    </tr>\n",
       "    <tr>\n",
       "      <th>2</th>\n",
       "      <td>71.754637</td>\n",
       "      <td>-21.667935</td>\n",
       "      <td>illoqqortoormiut</td>\n",
       "      <td>gl</td>\n",
       "    </tr>\n",
       "    <tr>\n",
       "      <th>3</th>\n",
       "      <td>80.554609</td>\n",
       "      <td>21.109109</td>\n",
       "      <td>longyearbyen</td>\n",
       "      <td>sj</td>\n",
       "    </tr>\n",
       "    <tr>\n",
       "      <th>4</th>\n",
       "      <td>57.129979</td>\n",
       "      <td>-124.912084</td>\n",
       "      <td>mackenzie</td>\n",
       "      <td>ca</td>\n",
       "    </tr>\n",
       "  </tbody>\n",
       "</table>\n",
       "</div>"
      ],
      "text/plain": [
       "   lat_values  lng_values              city country\n",
       "0  -53.668057   44.772856       east london      za\n",
       "1  -85.599915 -123.476984      punta arenas      cl\n",
       "2   71.754637  -21.667935  illoqqortoormiut      gl\n",
       "3   80.554609   21.109109      longyearbyen      sj\n",
       "4   57.129979 -124.912084         mackenzie      ca"
      ]
     },
     "execution_count": 11,
     "metadata": {},
     "output_type": "execute_result"
    }
   ],
   "source": [
    "location_data['city'] = \"\"\n",
    "location_data['country'] = \"\"\n",
    "\n",
    "count = 0\n",
    "for index, row in location_data.iterrows():\n",
    "    near_city = citipy.nearest_city(row['lat_values'], row['lng_values']).city_name\n",
    "    near_country = citipy.nearest_city(row['lat_values'], row['lng_values']).country_code\n",
    "    location_data.set_value(index,\"city\",near_city)\n",
    "    location_data.set_value(index,\"country\",near_country)\n",
    "location_data.head()#check"
   ]
  },
  {
   "cell_type": "code",
   "execution_count": 12,
   "metadata": {},
   "outputs": [
    {
     "data": {
      "text/plain": [
       "1500"
      ]
     },
     "execution_count": 12,
     "metadata": {},
     "output_type": "execute_result"
    }
   ],
   "source": [
    "len(location_data)"
   ]
  },
  {
   "cell_type": "code",
   "execution_count": 13,
   "metadata": {
    "collapsed": true
   },
   "outputs": [],
   "source": [
    "location_data=location_data.drop_duplicates(['city','country'],keep = \"first\")"
   ]
  },
  {
   "cell_type": "code",
   "execution_count": 14,
   "metadata": {
    "collapsed": true
   },
   "outputs": [],
   "source": [
    "\n",
    "location_data['Temp'] = \"\"\n",
    "location_data['Humidity'] = \"\"\n",
    "location_data['Cloudiness'] = \"\"\n",
    "location_data['Wind Speed'] = \"\"\n",
    "location_data[\"Lat\"] =\"\"\n",
    "location_data[\"Longitude\"] =\"\""
   ]
  },
  {
   "cell_type": "code",
   "execution_count": 15,
   "metadata": {
    "collapsed": true
   },
   "outputs": [],
   "source": [
    "# Set the sample size.\n",
    "sample_size = 500\n",
    "\n",
    "target_url = 'http://api.openweathermap.org/data/2.5/weather?q='\n",
    "units = 'imperial'"
   ]
  },
  {
   "cell_type": "code",
   "execution_count": 16,
   "metadata": {},
   "outputs": [
    {
     "data": {
      "text/html": [
       "<div>\n",
       "<style>\n",
       "    .dataframe thead tr:only-child th {\n",
       "        text-align: right;\n",
       "    }\n",
       "\n",
       "    .dataframe thead th {\n",
       "        text-align: left;\n",
       "    }\n",
       "\n",
       "    .dataframe tbody tr th {\n",
       "        vertical-align: top;\n",
       "    }\n",
       "</style>\n",
       "<table border=\"1\" class=\"dataframe\">\n",
       "  <thead>\n",
       "    <tr style=\"text-align: right;\">\n",
       "      <th></th>\n",
       "      <th>lat_values</th>\n",
       "      <th>lng_values</th>\n",
       "      <th>city</th>\n",
       "      <th>country</th>\n",
       "      <th>Temp</th>\n",
       "      <th>Humidity</th>\n",
       "      <th>Cloudiness</th>\n",
       "      <th>Wind Speed</th>\n",
       "      <th>Lat</th>\n",
       "      <th>Longitude</th>\n",
       "    </tr>\n",
       "  </thead>\n",
       "  <tbody>\n",
       "    <tr>\n",
       "      <th>0</th>\n",
       "      <td>-53.668057</td>\n",
       "      <td>44.772856</td>\n",
       "      <td>east london</td>\n",
       "      <td>za</td>\n",
       "      <td></td>\n",
       "      <td></td>\n",
       "      <td></td>\n",
       "      <td></td>\n",
       "      <td></td>\n",
       "      <td></td>\n",
       "    </tr>\n",
       "    <tr>\n",
       "      <th>1</th>\n",
       "      <td>-85.599915</td>\n",
       "      <td>-123.476984</td>\n",
       "      <td>punta arenas</td>\n",
       "      <td>cl</td>\n",
       "      <td></td>\n",
       "      <td></td>\n",
       "      <td></td>\n",
       "      <td></td>\n",
       "      <td></td>\n",
       "      <td></td>\n",
       "    </tr>\n",
       "    <tr>\n",
       "      <th>2</th>\n",
       "      <td>71.754637</td>\n",
       "      <td>-21.667935</td>\n",
       "      <td>illoqqortoormiut</td>\n",
       "      <td>gl</td>\n",
       "      <td></td>\n",
       "      <td></td>\n",
       "      <td></td>\n",
       "      <td></td>\n",
       "      <td></td>\n",
       "      <td></td>\n",
       "    </tr>\n",
       "    <tr>\n",
       "      <th>3</th>\n",
       "      <td>80.554609</td>\n",
       "      <td>21.109109</td>\n",
       "      <td>longyearbyen</td>\n",
       "      <td>sj</td>\n",
       "      <td></td>\n",
       "      <td></td>\n",
       "      <td></td>\n",
       "      <td></td>\n",
       "      <td></td>\n",
       "      <td></td>\n",
       "    </tr>\n",
       "    <tr>\n",
       "      <th>4</th>\n",
       "      <td>57.129979</td>\n",
       "      <td>-124.912084</td>\n",
       "      <td>mackenzie</td>\n",
       "      <td>ca</td>\n",
       "      <td></td>\n",
       "      <td></td>\n",
       "      <td></td>\n",
       "      <td></td>\n",
       "      <td></td>\n",
       "      <td></td>\n",
       "    </tr>\n",
       "  </tbody>\n",
       "</table>\n",
       "</div>"
      ],
      "text/plain": [
       "   lat_values  lng_values              city country Temp Humidity Cloudiness  \\\n",
       "0  -53.668057   44.772856       east london      za                            \n",
       "1  -85.599915 -123.476984      punta arenas      cl                            \n",
       "2   71.754637  -21.667935  illoqqortoormiut      gl                            \n",
       "3   80.554609   21.109109      longyearbyen      sj                            \n",
       "4   57.129979 -124.912084         mackenzie      ca                            \n",
       "\n",
       "  Wind Speed Lat Longitude  \n",
       "0                           \n",
       "1                           \n",
       "2                           \n",
       "3                           \n",
       "4                           "
      ]
     },
     "execution_count": 16,
     "metadata": {},
     "output_type": "execute_result"
    }
   ],
   "source": [
    "location_data.head()#check"
   ]
  },
  {
   "cell_type": "code",
   "execution_count": 1,
   "metadata": {},
   "outputs": [
    {
     "ename": "NameError",
     "evalue": "name 'location_data' is not defined",
     "output_type": "error",
     "traceback": [
      "\u001b[1;31m---------------------------------------------------------------------------\u001b[0m",
      "\u001b[1;31mNameError\u001b[0m                                 Traceback (most recent call last)",
      "\u001b[1;32m<ipython-input-1-77ce975618ed>\u001b[0m in \u001b[0;36m<module>\u001b[1;34m()\u001b[0m\n\u001b[0;32m      1\u001b[0m \u001b[0mrecord\u001b[0m \u001b[1;33m=\u001b[0m \u001b[1;36m0\u001b[0m\u001b[1;33m\u001b[0m\u001b[0m\n\u001b[1;32m----> 2\u001b[1;33m \u001b[1;32mfor\u001b[0m \u001b[0mindex\u001b[0m\u001b[1;33m,\u001b[0m \u001b[0mrow\u001b[0m \u001b[1;32min\u001b[0m \u001b[0mlocation_data\u001b[0m\u001b[1;33m.\u001b[0m\u001b[0miterrows\u001b[0m\u001b[1;33m(\u001b[0m\u001b[1;33m)\u001b[0m\u001b[1;33m:\u001b[0m\u001b[1;33m\u001b[0m\u001b[0m\n\u001b[0m\u001b[0;32m      3\u001b[0m     \u001b[0mcity_name\u001b[0m \u001b[1;33m=\u001b[0m \u001b[0mrow\u001b[0m\u001b[1;33m[\u001b[0m\u001b[1;34m'city'\u001b[0m\u001b[1;33m]\u001b[0m\u001b[1;33m\u001b[0m\u001b[0m\n\u001b[0;32m      4\u001b[0m     \u001b[0mcountry_code\u001b[0m \u001b[1;33m=\u001b[0m \u001b[0mrow\u001b[0m\u001b[1;33m[\u001b[0m\u001b[1;34m'country'\u001b[0m\u001b[1;33m]\u001b[0m\u001b[1;33m\u001b[0m\u001b[0m\n\u001b[0;32m      5\u001b[0m     \u001b[0murl\u001b[0m \u001b[1;33m=\u001b[0m \u001b[0mtarget_url\u001b[0m \u001b[1;33m+\u001b[0m \u001b[0mcity_name\u001b[0m \u001b[1;33m+\u001b[0m \u001b[1;34m','\u001b[0m \u001b[1;33m+\u001b[0m \u001b[0mcountry_code\u001b[0m \u001b[1;33m+\u001b[0m \u001b[1;34m'&units='\u001b[0m \u001b[1;33m+\u001b[0m \u001b[0munits\u001b[0m \u001b[1;33m+\u001b[0m \u001b[1;34m'&APPID='\u001b[0m \u001b[1;33m+\u001b[0m \u001b[0mapi_key\u001b[0m\u001b[1;33m\u001b[0m\u001b[0m\n",
      "\u001b[1;31mNameError\u001b[0m: name 'location_data' is not defined"
     ]
    }
   ],
   "source": [
    "record = 0\n",
    "for index, row in location_data.iterrows():\n",
    "    city_name = row['city']\n",
    "    country_code = row['country']\n",
    "    url = target_url + city_name + ',' + country_code + '&units=' + units + '&APPID=' + api_key\n",
    "    print (url)\n",
    "    try: \n",
    "        weather_response = req.get(url)\n",
    "        weather_json = weather_response.json()\n",
    "        latitude = weather_json[\"coord\"][\"lat\"]\n",
    "        longitude = weather_json[\"coord\"][\"lon\"]\n",
    "        temp = weather_json[\"main\"][\"temp\"]\n",
    "        humidity = weather_json[\"main\"][\"humidity\"]\n",
    "        cloud = weather_json[\"clouds\"][\"all\"]\n",
    "        wind = weather_json[\"wind\"][\"speed\"]\n",
    "        location_data.set_value(index,\"Temp\", temp)\n",
    "        location_data.set_value(index,\"Humidity\",humidity)\n",
    "        location_data.set_value(index,\"Wind Speed\", wind)\n",
    "        location_data.set_value(index,\"Cloudiness\",cloud)\n",
    "        location_data.set_value(index,\"Lat\", latitude)\n",
    "        location_data.set_value(index,\"Longitude\",longitude)\n",
    "        print(\"Retrieved data for %s, %s\" % (city_name, country_code))\n",
    "    except:\n",
    "        print(\"No data for %s, %s\" % (city_name,country_code))\n",
    "    record += 1\n",
    "    if record % 59 == 0:\n",
    "        time.sleep(60)"
   ]
  },
  {
   "cell_type": "code",
   "execution_count": null,
   "metadata": {
    "collapsed": true
   },
   "outputs": [],
   "source": [
    "location_data.head(20)"
   ]
  },
  {
   "cell_type": "code",
   "execution_count": null,
   "metadata": {
    "collapsed": true
   },
   "outputs": [],
   "source": [
    "location_data.to_csv(\"weatherpy_data.csv\", encoding=\"utf-8\", index=False)"
   ]
  },
  {
   "cell_type": "code",
   "execution_count": null,
   "metadata": {
    "collapsed": true
   },
   "outputs": [],
   "source": [
    "location_data['Lat'] = pd.to_numeric(location_data['Lat'], errors = 'coerce')\n",
    "location_data['Temp'] = pd.to_numeric(location_data['Temp'], errors = 'coerce')\n",
    "location_data['Humidity'] = pd.to_numeric(location_data['Humidity'], errors = 'coerce')\n",
    "location_data['Wind Speed'] = pd.to_numeric(location_data['Wind Speed'], errors = 'coerce')\n",
    "location_data['Cloudiness'] = pd.to_numeric(location_data['Cloudiness'], errors = 'coerce')"
   ]
  },
  {
   "cell_type": "code",
   "execution_count": null,
   "metadata": {
    "collapsed": true
   },
   "outputs": [],
   "source": [
    "\n",
    "x= location_data[\"Lat\"]\n",
    "y= location_data[\"Temp\"]\n",
    "plt.scatter (x,y, edgecolor = 'black')\n",
    "plt.title('Temperature (F) vs. Latitude')\n",
    "plt.ylabel(\"Temperature (F)\")\n",
    "plt.xlabel('Latitude')\n",
    "plt.show()"
   ]
  },
  {
   "cell_type": "code",
   "execution_count": null,
   "metadata": {
    "collapsed": true
   },
   "outputs": [],
   "source": [
    "x= location_data[\"Lat\"]\n",
    "y= location_data[\"Humidity\"]\n",
    "plt.scatter (x,y,edgecolor = 'black')\n",
    "plt.title('Humidity (%) vs. Latitude')\n",
    "plt.ylabel(\"Humidity (%)\")\n",
    "plt.xlabel('Latitude')\n",
    "plt.show()"
   ]
  },
  {
   "cell_type": "code",
   "execution_count": null,
   "metadata": {
    "collapsed": true
   },
   "outputs": [],
   "source": [
    "x= location_data[\"Lat\"]\n",
    "y= location_data[\"Cloudiness\"]\n",
    "plt.scatter (x,y,edgecolor = 'black')\n",
    "plt.title('Cloudiness (%) vs. Latitude')\n",
    "plt.ylabel(\"Cloudiness (%)\")\n",
    "plt.xlabel('Latitude')\n",
    "plt.show()"
   ]
  },
  {
   "cell_type": "code",
   "execution_count": null,
   "metadata": {
    "collapsed": true
   },
   "outputs": [],
   "source": [
    "x= location_data[\"Lat\"]\n",
    "y= location_data[\"Wind Speed\"]\n",
    "plt.scatter (x,y, edgecolor = 'black')\n",
    "plt.title('Wind Speed (mph) vs. Latitude')\n",
    "plt.ylabel(\"Wind Speed (mph)\")\n",
    "plt.xlabel('Latitude')\n",
    "plt.show()"
   ]
  },
  {
   "cell_type": "code",
   "execution_count": null,
   "metadata": {
    "collapsed": true
   },
   "outputs": [],
   "source": []
  }
 ],
 "metadata": {
  "kernelspec": {
   "display_name": "Python 3",
   "language": "python",
   "name": "python3"
  }
 },
 "nbformat": 4,
 "nbformat_minor": 2
}
